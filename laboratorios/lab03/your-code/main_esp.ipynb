{
 "cells": [
  {
   "cell_type": "markdown",
   "metadata": {},
   "source": [
    "### **Problemas de Comprensión de Listas, Tuplas y Diccionarios**\n",
    "\n",
    "1. Usa una list comprehension para crear e imprimir una lista de enteros consecutivos que comience con 1 y termine con 50.\n",
    "   "
   ]
  },
  {
   "cell_type": "code",
   "execution_count": 1,
   "metadata": {},
   "outputs": [],
   "source": [
    "# tu solución aquí"
   ]
  },
  {
   "cell_type": "markdown",
   "metadata": {},
   "source": [
    "2. Usa una list comprehension para crear y imprimir una lista de números pares entre 2 y 200."
   ]
  },
  {
   "cell_type": "code",
   "execution_count": 2,
   "metadata": {},
   "outputs": [],
   "source": [
    "# tu solución aquí"
   ]
  },
  {
   "cell_type": "markdown",
   "metadata": {},
   "source": [
    "3. Dado el siguiente array de 10 x 4:\n",
    "   \n",
    "    array_10x4 = [\n",
    "        [0.1, 0.2, 0.3, 0.4],\n",
    "        [0.5, 0.6, 0.7, 0.8],\n",
    "        [0.9, 1.0, 1.1, 1.2],\n",
    "        [1.3, 1.4, 1.5, 1.6],\n",
    "        [1.7, 1.8, 1.9, 2.0],\n",
    "        [2.1, 2.2, 2.3, 2.4],\n",
    "        [2.5, 2.6, 2.7, 2.8],\n",
    "        [2.9, 3.0, 3.1, 3.2],\n",
    "        [3.3, 3.4, 3.5, 3.6],\n",
    "        [3.7, 3.8, 3.9, 4.0]\n",
    "    ]\n",
    "   \n",
    "   Usa una comprensión de lista para crear e imprimir una lista que contenga todos los elementos de este array (aplanar la lista)."
   ]
  },
  {
   "cell_type": "code",
   "execution_count": 3,
   "metadata": {},
   "outputs": [],
   "source": [
    "# tu solución aquí"
   ]
  },
  {
   "cell_type": "markdown",
   "metadata": {},
   "source": [
    "4. Añade una condición a la comprensión de lista anterior para que solo se impriman los valores mayores o iguales a 0.5.\n"
   ]
  },
  {
   "cell_type": "code",
   "execution_count": 4,
   "metadata": {},
   "outputs": [],
   "source": [
    "# tu solución aquí"
   ]
  },
  {
   "cell_type": "markdown",
   "metadata": {},
   "source": [
    "5. Dado el siguiente array de 5 x 2 x 3:\n",
    "   \n",
    "   array_5x2x3 = [\n",
    "        [[0.1, 0.2, 0.3], [0.4, 0.5, 0.6]],\n",
    "        [[0.7, 0.8, 0.9], [1.0, 1.1, 1.2]],\n",
    "        [[1.3, 1.4, 1.5], [1.6, 1.7, 1.8]],\n",
    "        [[1.9, 2.0, 2.1], [2.2, 2.3, 2.4]],\n",
    "        [[2.5, 2.6, 2.7], [2.8, 2.9, 3.0]]\n",
    "    ]\n",
    "   \n",
    "   Usa una comprensión de lista para crear e imprimir una lista que contenga todos los elementos de este array (aplanar la lista).\n"
   ]
  },
  {
   "cell_type": "code",
   "execution_count": 5,
   "metadata": {},
   "outputs": [],
   "source": [
    "# tu solución aquí"
   ]
  },
  {
   "cell_type": "markdown",
   "metadata": {},
   "source": [
    "6. Añade una condición a la comprensión de lista anterior para que se imprima el último valor en cada subarray, pero solo si es menor o igual a 0.5."
   ]
  },
  {
   "cell_type": "code",
   "execution_count": 6,
   "metadata": {},
   "outputs": [],
   "source": [
    "# tu solución aquí"
   ]
  },
  {
   "cell_type": "markdown",
   "metadata": {},
   "source": [
    "7. Usa una comprensión de lista para crear una lista de los primeros 10 números impares, comenzando desde 1."
   ]
  },
  {
   "cell_type": "code",
   "execution_count": 7,
   "metadata": {},
   "outputs": [],
   "source": [
    "# tu solución aquí"
   ]
  },
  {
   "cell_type": "markdown",
   "metadata": {},
   "source": [
    "#### **Medio**\n",
    "8. Dada la cadena `\"programming\"`, usa una comprensión de diccionario para contar la frecuencia de cada letra en la cadena."
   ]
  },
  {
   "cell_type": "code",
   "execution_count": 8,
   "metadata": {},
   "outputs": [],
   "source": [
    "# tu solución aquí"
   ]
  },
  {
   "cell_type": "markdown",
   "metadata": {},
   "source": [
    "9. Crea una lista de tuplas que contenga cada número del 1 al 10 y su cuadrado utilizando una comprensión de lista."
   ]
  },
  {
   "cell_type": "code",
   "execution_count": 9,
   "metadata": {},
   "outputs": [],
   "source": [
    "# tu solución aquí"
   ]
  },
  {
   "cell_type": "markdown",
   "metadata": {},
   "source": [
    "10. Dada la lista mixta:\n",
    "    \n",
    "    lista_mixta = [1, 'hola', 3, 'mundo', 5, 'python', 7, 'programacion']\n",
    "    \n",
    "    Usa una comprensión de lista para extraer solo los elementos que son cadenas."
   ]
  },
  {
   "cell_type": "code",
   "execution_count": 10,
   "metadata": {},
   "outputs": [],
   "source": [
    "# tu solución aquí"
   ]
  },
  {
   "cell_type": "markdown",
   "metadata": {},
   "source": [
    "11. Dada la lista de números:\n",
    "    \n",
    "    numeros = [1, 2, 3, 4, 5, 6, 7, 8, 9, 10]\n",
    "\n",
    "    Crea un diccionario que contenga el cuadrado de cada número utilizando una comprensión de diccionario."
   ]
  },
  {
   "cell_type": "code",
   "execution_count": 11,
   "metadata": {},
   "outputs": [],
   "source": [
    "# tu solución aquí"
   ]
  },
  {
   "cell_type": "markdown",
   "metadata": {},
   "source": [
    "12. Dada una lista de diccionarios:\n",
    "    \n",
    "    estudiantes = [\n",
    "         {'nombre': 'Juan', 'edad': 20},\n",
    "         {'nombre': 'Ana', 'edad': 17},\n",
    "         {'nombre': 'Luis', 'edad': 19},\n",
    "         {'nombre': 'Pedro', 'edad': 22},\n",
    "         {'nombre': 'Maria', 'edad': 15}\n",
    "     ]\n",
    "    \n",
    "    Usa una comprensión de lista para crear una lista de los nombres de los estudiantes que tienen una edad mayor a 18."
   ]
  },
  {
   "cell_type": "code",
   "execution_count": 12,
   "metadata": {},
   "outputs": [],
   "source": [
    "# tu solución aquí"
   ]
  },
  {
   "cell_type": "markdown",
   "metadata": {},
   "source": [
    "13. Dada la lista:\n",
    "\n",
    "     mezclados = ['a', 1, 'b', 2, 'c', 3, 'd', 4]\n",
    "\n",
    "    Crea una lista que contenga solo los números usando una comprensión de lista.\n"
   ]
  },
  {
   "cell_type": "code",
   "execution_count": 13,
   "metadata": {},
   "outputs": [],
   "source": [
    "# tu solución aquí"
   ]
  },
  {
   "cell_type": "markdown",
   "metadata": {},
   "source": [
    "#### **Avanzado**\n",
    "\n",
    "14. Dada la lista de temperaturas en Celsius:\n",
    "\n",
    "    temperaturas_celsius = [0, 20, 100, -10, 37]\n",
    "\n",
    "    Usa una comprensión de lista para convertirlas a Fahrenheit y crear una lista de tuplas donde cada tupla contenga la temperatura en Celsius y su equivalente en Fahrenheit.\n"
   ]
  },
  {
   "cell_type": "code",
   "execution_count": 14,
   "metadata": {},
   "outputs": [],
   "source": [
    "# tu solución aquí"
   ]
  },
  {
   "cell_type": "markdown",
   "metadata": {},
   "source": [
    "15. Dada la lista de estudiantes con sus calificaciones:\n",
    "\n",
    "    estudiantes = [\n",
    "         {'nombre': 'Juan', 'calificacion': 85},\n",
    "         {'nombre': 'Ana', 'calificacion': 60},\n",
    "         {'nombre': 'Luis', 'calificacion': 75},\n",
    "         {'nombre': 'Pedro', 'calificacion': 50},\n",
    "         {'nombre': 'Maria', 'calificacion': 90}\n",
    "     ]\n",
    "\n",
    "    Crea un diccionario que contenga los nombres de los estudiantes como claves y sus calificaciones como valores, y filtra aquellos que tienen una calificación menor a 70, almacenando los resultados en una lista de tuplas.\n"
   ]
  },
  {
   "cell_type": "code",
   "execution_count": 15,
   "metadata": {},
   "outputs": [],
   "source": [
    "# tu solución aquí"
   ]
  },
  {
   "cell_type": "markdown",
   "metadata": {},
   "source": [
    "16. Dada la lista de números:\n",
    "\n",
    "    numeros = [1, 2, 3, 4, 5]\n",
    "\n",
    "    Usa una comprensión de lista para generar una lista de cadenas que contenga la representación en texto de cada número, y crea una lista de tuplas donde cada tupla contenga el número y su representación en texto.\n"
   ]
  },
  {
   "cell_type": "code",
   "execution_count": 16,
   "metadata": {},
   "outputs": [],
   "source": [
    "# tu solución aquí"
   ]
  },
  {
   "cell_type": "markdown",
   "metadata": {},
   "source": [
    "17. Crea una lista de tuplas que contenga solo los números de Fibonacci menores a 100 utilizando una comprensión de lista, comenzando desde 0, y en cada tupla, incluye el índice del número en la secuencia."
   ]
  },
  {
   "cell_type": "code",
   "execution_count": 17,
   "metadata": {},
   "outputs": [],
   "source": [
    "# tu solución aquí"
   ]
  },
  {
   "cell_type": "markdown",
   "metadata": {},
   "source": [
    "18. Dado el diccionario:\n",
    "\n",
    "    datos = {'a': 5, 'b': 15, 'c': 8, 'd': 12}\n",
    "\n",
    "    Usa una comprensión de diccionario para crear un nuevo diccionario que contenga solo las claves y valores donde los valores sean mayores a 10, y almacena los resultados en una lista de tuplas.\n"
   ]
  },
  {
   "cell_type": "code",
   "execution_count": 18,
   "metadata": {},
   "outputs": [],
   "source": [
    "# tu solución aquí"
   ]
  },
  {
   "cell_type": "markdown",
   "metadata": {},
   "source": [
    "19. Dada la lista de listas:\n",
    "    \n",
    "    listas_numeros = [\n",
    "         [1, 2, 3],\n",
    "         [4, 5, 6],\n",
    "         [7, 8, 9],\n",
    "         [10, 11, 12]\n",
    "     ]\n",
    "\n",
    "    Usa una comprensión de lista anidada para extraer todos los elementos que son divisibles por 3 y crea una lista de tuplas donde cada tupla contenga el número y su lista de origen.\n"
   ]
  },
  {
   "cell_type": "code",
   "execution_count": 19,
   "metadata": {},
   "outputs": [],
   "source": [
    "# tu solución aquí"
   ]
  },
  {
   "cell_type": "markdown",
   "metadata": {},
   "source": [
    "20. Dado el texto:\n",
    "\n",
    "    texto = \"El sol brilla y la luna brilla en la noche. El sol es hermoso y la luna también es hermosa. En un día claro, el sol ilumina el paisaje y la luna refleja su luz en el agua. A veces, el cielo está nublado y el sol se oculta detrás de las nubes, pero la luna sigue brillando. Las estrellas también son visibles en la oscuridad, creando un hermoso espectáculo en el cielo. La luna llena es especialmente mágica y muchas personas la admiran en silencio. El ciclo de la luna, desde la luna nueva hasta la luna llena, es fascinante para los astrónomos y amantes de la naturaleza.\"\n",
    "\n",
    "    Crea un diccionario que contenga las palabras del texto y el número de veces que aparecen, utilizando una comprensión de diccionario, ignorando mayúsculas y minúsculas, y almacena los resultados en una lista de tuplas con la palabra y su frecuencia."
   ]
  },
  {
   "cell_type": "code",
   "execution_count": 20,
   "metadata": {},
   "outputs": [],
   "source": [
    "# tu solución aquí"
   ]
  }
 ],
 "metadata": {
  "kernelspec": {
   "display_name": "Python 3 (ipykernel)",
   "language": "python",
   "name": "python3"
  },
  "language_info": {
   "codemirror_mode": {
    "name": "ipython",
    "version": 3
   },
   "file_extension": ".py",
   "mimetype": "text/x-python",
   "name": "python",
   "nbconvert_exporter": "python",
   "pygments_lexer": "ipython3",
   "version": "3.10.12"
  },
  "vscode": {
   "interpreter": {
    "hash": "aee8b7b246df8f9039afb4144a1f6fd8d2ca17a180786b69acc140d282b71a49"
   }
  }
 },
 "nbformat": 4,
 "nbformat_minor": 4
}
